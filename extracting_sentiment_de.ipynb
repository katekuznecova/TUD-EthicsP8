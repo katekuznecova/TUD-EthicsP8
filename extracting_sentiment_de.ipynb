{
 "cells": [
  {
   "cell_type": "code",
   "execution_count": 1,
   "metadata": {},
   "outputs": [],
   "source": [
    "import json\n",
    "import pandas as pd\n",
    "%load_ext autotime"
   ]
  },
  {
   "cell_type": "code",
   "execution_count": 3,
   "metadata": {},
   "outputs": [],
   "source": [
    "tweets = pd.read_csv(\"stayathome_ger_march_42053_tweets.csv\")"
   ]
  },
  {
   "cell_type": "code",
   "execution_count": 6,
   "metadata": {},
   "outputs": [
    {
     "data": {
      "text/plain": [
       "0     das wird ja immer schlimmer Mr Trump... #coro...\n",
       "1    Pro Tipp, besonders für Leute in Großstädten w...\n",
       "2    Was würdet ihr sagen #Maskenpflicht .... #COVI...\n",
       "3    Schaue gerade die PK mit @realDonaldTrump ... ...\n",
       "4    #StayAtHome und bleibt bitte gesund. Helft den...\n",
       "Name: text, dtype: object"
      ]
     },
     "execution_count": 6,
     "metadata": {},
     "output_type": "execute_result"
    }
   ],
   "source": [
    "tweet_texts=tweets[\"text\"]\n",
    "tweet_texts.head()"
   ]
  },
  {
   "cell_type": "markdown",
   "metadata": {},
   "source": [
    "### Sentiment analysis with textblob-de"
   ]
  },
  {
   "cell_type": "code",
   "execution_count": 19,
   "metadata": {},
   "outputs": [],
   "source": [
    "from textblob_de import TextBlobDE"
   ]
  },
  {
   "cell_type": "code",
   "execution_count": 22,
   "metadata": {},
   "outputs": [],
   "source": [
    "def sentiment_analyzer_scores(sentence):\n",
    "    text = TextBlobDE(sentence)\n",
    "    score = text.sentiment.polarity\n",
    "    return score"
   ]
  },
  {
   "cell_type": "code",
   "execution_count": 28,
   "metadata": {},
   "outputs": [],
   "source": [
    "#test on a single sentence\n",
    "example_sentence = \"Der Blob macht in seiner unbekümmert-naiven Weise einfach nur Spass. Er hat eben den gewissen Charme, bei dem auch die eher hölzerne Regie unddas konfuse Drehbuch nicht weiter stören\"\n",
    "s = sentiment_analyzer_scores(example_sentence)\n",
    "s"
   ]
  },
  {
   "cell_type": "code",
   "execution_count": 31,
   "metadata": {},
   "outputs": [],
   "source": []
  },
  {
   "cell_type": "code",
   "execution_count": 32,
   "metadata": {},
   "outputs": [
    {
     "name": "stderr",
     "output_type": "stream",
     "text": [
      "100%|██████████| 42053/42053 [00:00<00:00, 1789764.35it/s]\n"
     ]
    }
   ],
   "source": [
    "tweets[\"textblob\"] = tweets.apply(lambda x: sentiment_analyzer_scores(x[\"text\"]), axis=1)\n"
   ]
  },
  {
   "cell_type": "code",
   "execution_count": 36,
   "metadata": {},
   "outputs": [
    {
     "data": {
      "text/plain": [
       "count    42053.000000\n",
       "mean         0.129805\n",
       "std          0.324484\n",
       "min         -1.000000\n",
       "25%          0.000000\n",
       "50%          0.000000\n",
       "75%          0.333333\n",
       "max          1.000000\n",
       "Name: textblob, dtype: float64"
      ]
     },
     "execution_count": 36,
     "metadata": {},
     "output_type": "execute_result"
    }
   ],
   "source": [
    "tweets[\"textblob\"].describe()"
   ]
  },
  {
   "cell_type": "code",
   "execution_count": 38,
   "metadata": {},
   "outputs": [],
   "source": [
    "tweets.to_csv(\"german-sentiment.csv\")"
   ]
  },
  {
   "cell_type": "markdown",
   "metadata": {},
   "source": [
    "### Alternative method with spaCy and SentiWS\n",
    "~ if we have more time and motivation --> thsi method requires more manual work, as it only provides a score for each relevant token in a sentence"
   ]
  },
  {
   "cell_type": "code",
   "execution_count": null,
   "metadata": {},
   "outputs": [],
   "source": [
    "import spacy\n",
    "from spacy_sentiws import spaCySentiWS\n",
    "\n",
    "nlp = spacy.load('de')\n",
    "sentiws = spaCySentiWS(sentiws_path='SentiWS')\n",
    "nlp.add_pipe(sentiws)\n",
    "doc = nlp('Die Dummheit der Unterwerfung blüht in hübschen Farben.')\n",
    "\n",
    "for token in doc:\n",
    "    print('{}'.format(token._.sentiws))"
   ]
  },
  {
   "cell_type": "code",
   "execution_count": null,
   "metadata": {},
   "outputs": [],
   "source": []
  }
 ],
 "metadata": {
  "kernelspec": {
   "display_name": "Python 3",
   "language": "python",
   "name": "python3"
  },
  "language_info": {
   "codemirror_mode": {
    "name": "ipython",
    "version": 3
   },
   "file_extension": ".py",
   "mimetype": "text/x-python",
   "name": "python",
   "nbconvert_exporter": "python",
   "pygments_lexer": "ipython3",
   "version": "3.6.9"
  }
 },
 "nbformat": 4,
 "nbformat_minor": 4
}
