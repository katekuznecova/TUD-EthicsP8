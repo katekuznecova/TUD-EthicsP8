{
 "cells": [
  {
   "cell_type": "code",
   "execution_count": 3,
   "metadata": {},
   "outputs": [],
   "source": [
    "import folium\n",
    "import pandas as pd\n",
    "import webbrowser\n",
    "import json"
   ]
  },
  {
   "cell_type": "code",
   "execution_count": 4,
   "metadata": {},
   "outputs": [
    {
     "name": "stdout",
     "output_type": "stream",
     "text": [
      "3926\n"
     ]
    }
   ],
   "source": [
    "# load for en data\n",
    "tweets = []\n",
    "with open('en_tweets/stayathome_en_3926_tweets.json') as f:\n",
    "    for line in f:\n",
    "        tweets.append(json.loads(line))\n",
    "print(len(tweets))"
   ]
  },
  {
   "cell_type": "code",
   "execution_count": 51,
   "metadata": {},
   "outputs": [
    {
     "name": "stdout",
     "output_type": "stream",
     "text": [
      "42037\n"
     ]
    }
   ],
   "source": [
    "# load for ger data\n",
    "tweets = []\n",
    "with open('german_tweets/stayathome_ger_march_42037_tweets.json') as f:\n",
    "    for line in f:\n",
    "        tweets.append(json.loads(line))\n",
    "print(len(tweets))"
   ]
  },
  {
   "cell_type": "code",
   "execution_count": 52,
   "metadata": {},
   "outputs": [
    {
     "name": "stdout",
     "output_type": "stream",
     "text": [
      "461\n"
     ]
    }
   ],
   "source": [
    "coords = [[tweet['user']['name'], tweet['coordinates']['coordinates'][0], tweet['coordinates']['coordinates'][1],\\\n",
    "           tweet['full_text']] for tweet in tweets if tweet['coordinates']]\n",
    "print(len(coords))"
   ]
  },
  {
   "cell_type": "code",
   "execution_count": 53,
   "metadata": {},
   "outputs": [
    {
     "name": "stdout",
     "output_type": "stream",
     "text": [
      "2036\n"
     ]
    }
   ],
   "source": [
    "# use center point of bounding box\n",
    "place = [[tweet['user']['name'], \\\n",
    "          (float(tweet['place']['bounding_box']['coordinates'][0][0][0])\\\n",
    "          + float(tweet['place']['bounding_box']['coordinates'][0][1][0])) / 2, \\\n",
    "           (float(tweet['place']['bounding_box']['coordinates'][0][0][1])\\\n",
    "          + float(tweet['place']['bounding_box']['coordinates'][0][3][1])) / 2, \\\n",
    "           tweet['full_text']] for tweet in tweets if tweet['place'] and not tweet['coordinates']]\n",
    "print(len(place))"
   ]
  },
  {
   "cell_type": "code",
   "execution_count": 54,
   "metadata": {},
   "outputs": [],
   "source": [
    "df = pd.DataFrame(coords)\n",
    "df.columns = ['username', 'longitude', 'latitude', 'text']"
   ]
  },
  {
   "cell_type": "code",
   "execution_count": 55,
   "metadata": {},
   "outputs": [],
   "source": [
    "df2 = pd.DataFrame(place)\n",
    "df2.columns = ['username', 'longitude', 'latitude', 'text']"
   ]
  },
  {
   "cell_type": "code",
   "execution_count": 57,
   "metadata": {},
   "outputs": [
    {
     "data": {
      "text/plain": [
       "True"
      ]
     },
     "execution_count": 57,
     "metadata": {},
     "output_type": "execute_result"
    }
   ],
   "source": [
    "#df = pd.DataFrame(coords, columns = [\"username\", \"longitude\", \"latitude\", \"text\"])\n",
    "\n",
    "def plotDots(dataframe):\n",
    "    # reading geodata into folium map\n",
    "    folium.CircleMarker(location=[float(dataframe.latitude), float(dataframe.longitude)],\n",
    "                        radius=6,\n",
    "                        popup = dataframe.username+\": \"+dataframe.text,\n",
    "                        color = \"#070519\",\n",
    "                        fill=True,\n",
    "                        fill_color='#3186cc').add_to(twitter_map)\n",
    "\n",
    "def plotDots2(dataframe):\n",
    "    # reading geodata into folium map\n",
    "    folium.CircleMarker(location=[float(dataframe.latitude), float(dataframe.longitude)],\n",
    "                        radius=6,\n",
    "                        popup = dataframe.username+\": \"+dataframe.text,\n",
    "                        color = \"red\",\n",
    "                        fill=True,\n",
    "                        fill_color='red').add_to(twitter_map)\n",
    "    \n",
    "# create folium map \n",
    "twitter_map = folium.Map(prefer_canvas=True)\n",
    "\n",
    "# Apply plotDot to dataframe\n",
    "df.apply(plotDots, axis = 1)\n",
    "df2.apply(plotDots2, axis = 1)\n",
    "\n",
    "# zoom in\n",
    "twitter_map.fit_bounds(twitter_map.get_bounds())\n",
    "\n",
    "# save map\n",
    "twitter_map.save('TwitterGeodataMapWithBB4DE.html')\n",
    "# open html file in new tab\n",
    "webbrowser.open_new_tab('TwitterGeodataMapWithBB4DE.html')"
   ]
  }
 ],
 "metadata": {
  "kernelspec": {
   "display_name": "Python 3",
   "language": "python",
   "name": "python3"
  },
  "language_info": {
   "codemirror_mode": {
    "name": "ipython",
    "version": 3
   },
   "file_extension": ".py",
   "mimetype": "text/x-python",
   "name": "python",
   "nbconvert_exporter": "python",
   "pygments_lexer": "ipython3",
   "version": "3.7.0"
  }
 },
 "nbformat": 4,
 "nbformat_minor": 2
}
